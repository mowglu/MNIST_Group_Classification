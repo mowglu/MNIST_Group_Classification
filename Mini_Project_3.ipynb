{
  "nbformat": 4,
  "nbformat_minor": 0,
  "metadata": {
    "accelerator": "GPU",
    "colab": {
      "name": "Mini Project 3.ipynb",
      "provenance": [],
      "collapsed_sections": [],
      "toc_visible": true,
      "include_colab_link": true
    },
    "kernelspec": {
      "display_name": "Python 3",
      "name": "python3"
    }
  },
  "cells": [
    {
      "cell_type": "markdown",
      "metadata": {
        "id": "view-in-github",
        "colab_type": "text"
      },
      "source": [
        "<a href=\"https://colab.research.google.com/github/mowglu/MNIST_Group_Classification/blob/main/Mini_Project_3.ipynb\" target=\"_parent\"><img src=\"https://colab.research.google.com/assets/colab-badge.svg\" alt=\"Open In Colab\"/></a>"
      ]
    },
    {
      "cell_type": "code",
      "metadata": {
        "id": "URvo1GSIfQkO"
      },
      "source": [
        "import numpy as np\r\n",
        "import pandas as pd\r\n",
        "import matplotlib.pyplot as plt\r\n",
        "import h5py\r\n",
        "import random\r\n",
        "from sklearn.model_selection import train_test_split\r\n",
        "import cv2\r\n",
        "import os\r\n",
        "import pandas as pd\r\n",
        "import itertools\r\n",
        "import time"
      ],
      "execution_count": null,
      "outputs": []
    },
    {
      "cell_type": "markdown",
      "metadata": {
        "id": "8irlowzlfuie"
      },
      "source": [
        "## Data Processing Functions"
      ]
    },
    {
      "cell_type": "markdown",
      "metadata": {
        "id": "y3445ueVgM2z"
      },
      "source": [
        "number_of_digits receives an image and finds the number of digits in the image.\r\n",
        "\r\n",
        "It accomplishes this by summing the total pixel activations within a single column. It then checks if the activation is above some threshold (if not, the column's activation is rounded down to zero). Next, it groups together consecutive activations into individual \"blobs\". The total activation of these blobs is summed, and if it is above a threshold, it is counted as a digit. We also add an if-clause to take care of digits that are attached."
      ]
    },
    {
      "cell_type": "code",
      "metadata": {
        "id": "oz7Bs3wXgJCw"
      },
      "source": [
        "# Receives 1 image and finds number of digits in this image\r\n",
        "\r\n",
        "def number_of_digits(x):\r\n",
        "    col_tot_activation = []\r\n",
        "    for j in range(64):                       # Loops through all columns and sums total activation of pixels in a column\r\n",
        "        pixel_sum = x[:,j].sum()\r\n",
        "        col_tot_activation.append(pixel_sum)  # Appends to array \r\n",
        "    \r\n",
        "    # If a columns activation is less than threshold, round it down to zero\r\n",
        "    col_tot_activation = [x if x>50 else 0 for x in col_tot_activation]\r\n",
        "\r\n",
        "    # Groups columns that are consecutively activated into individual blobs\r\n",
        "    consecutive_activations = [ list(x[1]) for x in itertools.groupby(col_tot_activation, lambda x: x == 0)]\r\n",
        "\r\n",
        "    # The sums of activations of each \"blob\" is calculated\r\n",
        "    blob_sums = [np.sum(i) for i in consecutive_activations]\r\n",
        "\r\n",
        "    # If the blob's total activation is over threshold, it is a digit\r\n",
        "    num_digits = sum(1 for i in blob_sums if i>750)\r\n",
        "\r\n",
        "    # Finds if two digits are attached and adjusts num_digits if so\r\n",
        "    max_len = max([len(x) for x in consecutive_activations if np.sum(x) > 0])\r\n",
        "    if max_len > 15:\r\n",
        "        num_digits += 1\r\n",
        "\r\n",
        "    # No longer needed, but will keep for redundancy for the private dataset\r\n",
        "    if num_digits > 5:\r\n",
        "        num_digits = 5\r\n",
        "    return num_digits"
      ],
      "execution_count": null,
      "outputs": []
    },
    {
      "cell_type": "markdown",
      "metadata": {
        "id": "jMGMXT96gUVX"
      },
      "source": [
        "digit_splitter receives an image and splits it at pre-determined points. We find that each digit is ~12 columns, and centered along the image. Thus, we return groups of 12 columns, each group representing a digit.\r\n",
        "\r\n",
        "We visualized many examples of 1, 2, 3, 4, and 5 digit splits and adjusted our split points as needed."
      ]
    },
    {
      "cell_type": "code",
      "metadata": {
        "id": "e2ZM0oX0gRvS"
      },
      "source": [
        "# Receives a single image and splits into multiple images at pre-determined points\r\n",
        "\r\n",
        "def digit_splitter(x, y, num_digits):\r\n",
        "    split_images = []\r\n",
        "    if num_digits == 5:\r\n",
        "        split_images.append(x[:,2:14,:])        # keeps all rows, keeps columns 2 (inclusive) to 14 (not inclusive), keeps 3rd dimension\r\n",
        "        split_images.append(x[:,14:26,:])\r\n",
        "        split_images.append(x[:,26:38,:])\r\n",
        "        split_images.append(x[:,38:50,:])\r\n",
        "        split_images.append(x[:,50:62,:])\r\n",
        "        split_y_vals = y[:5]                    # keeps the first 5 y-values\r\n",
        "    elif num_digits == 4:\r\n",
        "        split_images.append(x[:,8:20,:])  \r\n",
        "        split_images.append(x[:,20:32,:])  \r\n",
        "        split_images.append(x[:,32:44,:])  \r\n",
        "        split_images.append(x[:,44:56,:])\r\n",
        "        split_y_vals = y[:4]\r\n",
        "    elif num_digits == 3:\r\n",
        "        split_images.append(x[:,14:26,:])\r\n",
        "        split_images.append(x[:,26:38,:])\r\n",
        "        split_images.append(x[:,38:50,:])\r\n",
        "        split_y_vals = y[:3]\r\n",
        "    elif num_digits == 2:\r\n",
        "        split_images.append(x[:,20:32,:])  \r\n",
        "        split_images.append(x[:,32:44,:]) \r\n",
        "        split_y_vals = y[:2]\r\n",
        "    elif num_digits == 1:\r\n",
        "        split_images.append(x[:,26:38,:])\r\n",
        "        split_y_vals = y[:1]\r\n",
        "    return split_images, split_y_vals"
      ],
      "execution_count": null,
      "outputs": []
    },
    {
      "cell_type": "markdown",
      "metadata": {
        "id": "sccjWqe_gc6x"
      },
      "source": [
        "## Import Data"
      ]
    },
    {
      "cell_type": "code",
      "metadata": {
        "colab": {
          "base_uri": "https://localhost:8080/",
          "height": 591
        },
        "id": "B9c0ESjVgVFT",
        "outputId": "ea6c32b9-ffa5-4b22-dec2-419f36801527"
      },
      "source": [
        "# Import data\r\n",
        "\r\n",
        "dataset = h5py.File(\"MNIST_synthetic.h5\", 'r')\r\n",
        "x = np.array(dataset['train_dataset'])\r\n",
        "y = np.array(dataset['train_labels'])\r\n",
        "\r\n",
        "# Plot sample of data \r\n",
        "plt.figure(figsize=(40,20))\r\n",
        "for i in range(15):\r\n",
        "    rand = np.random.randint(0,55999)        # Use this to plot random sample if desired\r\n",
        "    plt.subplot(3,5,i+1), plt.imshow(x[i,:,:,0])\r\n",
        "    plt.title(\"X: %d\" % rand),plt.xticks([0,10,20,30,40,50,60]), plt.yticks([0,10,20,30,40,50,60])\r\n",
        "plt.show()"
      ],
      "execution_count": null,
      "outputs": [
        {
          "output_type": "display_data",
          "data": {
            "image/png": "[encoded data removed]",
            "text/plain": [
              "<Figure size 2880x1440 with 15 Axes>"
            ]
          },
          "metadata": {
            "tags": [],
            "needs_background": "light"
          }
        }
      ]
    },
    {
      "cell_type": "markdown",
      "metadata": {
        "id": "0cOWQroBj2Rl"
      },
      "source": [
        "## Remove Unnecessary Rows"
      ]
    },
    {
      "cell_type": "markdown",
      "metadata": {
        "id": "5audS5Nsj621"
      },
      "source": [
        "This cells determines which rows do not contirbute useful infrmation, and removes them. This following cell does not need to be re-run.\r\n"
      ]
    },
    {
      "cell_type": "code",
      "metadata": {
        "colab": {
          "base_uri": "https://localhost:8080/"
        },
        "id": "cVoMsnV8gh7p",
        "outputId": "563824e0-bc33-4672-f0ad-bf2c86fe3f1f"
      },
      "source": [
        "# Determine which rows are at the top of the image are completely zero\r\n",
        "\r\n",
        "first_row = []\r\n",
        "for a in range(len(x)):             #Iterate through all images\r\n",
        "    exit = False\r\n",
        "    for i in range(64):             #Iterate through all rows within an image\r\n",
        "        for j in range(64):         #Iterate through all columns within an image \r\n",
        "            if x[a][i][j] != 0:     #If a pixel has a non-zero value, break loop\r\n",
        "                exit = True\r\n",
        "                break\r\n",
        "        if exit:\r\n",
        "            first_row.append(i)     #Store the row that has the first non zero value\r\n",
        "            break\r\n",
        "\r\n",
        "# Determine which rows are at the bottom of the image are completely zero\r\n",
        "\r\n",
        "last_row = []\r\n",
        "for a in range(len(x)):             #Iterate through all images\r\n",
        "    exit = False\r\n",
        "    for i in range(-1,-65,-1):      #Iterate through all rows within an image\r\n",
        "        for j in range(64):         #Iterate through all columns within an image \r\n",
        "            if x[a][i][j] != 0:     #If a pixel has a non-zero value, break loop\r\n",
        "                exit = True\r\n",
        "                break\r\n",
        "        if exit:\r\n",
        "            last_row.append(i)     #Store the row that has the first non zero value for each image\r\n",
        "            break\r\n",
        "\r\n",
        "\r\n",
        "print(min(first_row), max(last_row))    # Every row before row 26 and after -27 can be discarded safely\r\n"
      ],
      "execution_count": null,
      "outputs": [
        {
          "output_type": "stream",
          "text": [
            "26 -27\n"
          ],
          "name": "stdout"
        }
      ]
    },
    {
      "cell_type": "markdown",
      "metadata": {
        "id": "dqwXV86GkTSl"
      },
      "source": [
        "This cell adjusts x to only have those rows which are needed, and re-plots with adjusted rows (this code needs to be re-run):"
      ]
    },
    {
      "cell_type": "code",
      "metadata": {
        "id": "AVvPcqMAkT9D",
        "colab": {
          "base_uri": "https://localhost:8080/",
          "height": 226
        },
        "outputId": "3f05d9f6-155e-49c3-bdcb-2fc7dff040e1"
      },
      "source": [
        "# Plot sample with adjusted rows\r\n",
        "\r\n",
        "x = x[:,26:-26,:,:]\r\n",
        "plt.figure(figsize=(40,8))\r\n",
        "for i in range(15):\r\n",
        "    rand = np.random.randint(0,55999)\r\n",
        "    plt.subplot(3,5,i+1), plt.imshow(x[i,:,:,0])\r\n",
        "    plt.title(\"X: %d\" % rand),plt.xticks([0,10,20,30,40,50,60]), plt.yticks([0,10])\r\n",
        "plt.show()"
      ],
      "execution_count": null,
      "outputs": [
        {
          "output_type": "display_data",
          "data": {
            "image/png": "[encoded data removed]",
            "text/plain": [
              "<Figure size 2880x576 with 15 Axes>"
            ]
          },
          "metadata": {
            "tags": [],
            "needs_background": "light"
          }
        }
      ]
    },
    {
      "cell_type": "markdown",
      "metadata": {
        "id": "l8OcyK6ikaf8"
      },
      "source": [
        "### Extracting Individual Digits"
      ]
    },
    {
      "cell_type": "markdown",
      "metadata": {
        "id": "-ryVlLrtkeUW"
      },
      "source": [
        "This cell finds the number of digits using our function and tests its accuracy. It also records the following data for visualization and tuning purposes: correctly classified images, incorrectly classified images, true number of digits."
      ]
    },
    {
      "cell_type": "code",
      "metadata": {
        "id": "V__-QQ-ykQ8g",
        "colab": {
          "base_uri": "https://localhost:8080/"
        },
        "outputId": "78331c56-3fbc-4ffa-c5f1-82022709a820"
      },
      "source": [
        "# Find number of digits in an image and compare to actual number of digits with y-label\r\n",
        "\r\n",
        "misdigit_ind = [] \r\n",
        "misdigit_pics = []\r\n",
        "misdigits_arr = []\r\n",
        "x_copy = []\r\n",
        "y_copy = []\r\n",
        "true_num_arr = []\r\n",
        "\r\n",
        "for i in range(len(x)):\r\n",
        "    num_digits = number_of_digits(x[i])                 # Gets guess from number_of_digits function\r\n",
        "    true_num_digits = np.count_nonzero(y[i] != 10);     # Actual value of the number of digits\r\n",
        "    true_num_arr.append(true_num_digits)\r\n",
        "    if num_digits != true_num_digits:                   # If incorrect, append incorrect image, num_digits guess, and index to misdigit for future visualization\r\n",
        "        misdigit_ind.append(i)\r\n",
        "        misdigit_pics.append(x[i])\r\n",
        "        misdigits_arr.append(num_digits)\r\n",
        "    else:                                               # If correct, append correct image and y-label to x_copy\r\n",
        "        x_copy.append(x[i]) \r\n",
        "        y_copy.append(y[i]) \r\n",
        "\r\n",
        "# x_copy and y_copy are the images that num_digits was able to correctly identify\r\n",
        "# If accuracy cannot reach 100%, only these will be used for training\r\n",
        "x_copy = np.array(x_copy)\r\n",
        "y_copy = np.array(y_copy)\r\n",
        "\r\n",
        "# Calculate accuracy of num_digits\r\n",
        "digit_accuracy = (len(x) - len(misdigits_arr))*100/len(x)\r\n",
        "print(f\"The digitization accuracy is {digit_accuracy}%!\")\r\n",
        "\r\n",
        "misdigit_pics = np.array(misdigit_pics)"
      ],
      "execution_count": null,
      "outputs": [
        {
          "output_type": "stream",
          "text": [
            "The digitization accuracy is 100.0%!\n"
          ],
          "name": "stdout"
        }
      ]
    },
    {
      "cell_type": "markdown",
      "metadata": {
        "id": "C20_alszkjfP"
      },
      "source": [
        "We then attempt to split our images into individual digits. This requires some tuning, thus we visualize several splits by adjusting the size of the range() function. Eventually, we reach near-perfect splits"
      ]
    },
    {
      "cell_type": "code",
      "metadata": {
        "id": "sIemFhRmkXdA",
        "colab": {
          "base_uri": "https://localhost:8080/",
          "height": 202
        },
        "outputId": "7d759c89-7be8-469a-c417-fd46dd43b226"
      },
      "source": [
        "one_dig_ind = [i for i, num in enumerate(true_num_arr) if num == 1]\r\n",
        "two_dig_ind = [i for i, num in enumerate(true_num_arr) if num == 2]\r\n",
        "three_dig_ind = [i for i, num in enumerate(true_num_arr) if num == 3]\r\n",
        "four_dig_ind = [i for i, num in enumerate(true_num_arr) if num == 4]\r\n",
        "five_dig_ind = [i for i, num in enumerate(true_num_arr) if num == 5]\r\n",
        "\r\n",
        "for a in range(1):\r\n",
        "    num_digits = np.count_nonzero(y[five_dig_ind[a]] != 10)\r\n",
        "    split_images, split_y = digit_splitter(x_copy[five_dig_ind[a],:,:], y_copy[five_dig_ind[a],:], num_digits)\r\n",
        "    \r\n",
        "    split_images = np.array(split_images)\r\n",
        "    split_y = np.array(split_y)\r\n",
        "    \r\n",
        "    plt.figure(1)\r\n",
        "    plt.imshow(x_copy[five_dig_ind[a],:,:,0])\r\n",
        "\r\n",
        "    for j in range(num_digits):\r\n",
        "        plt.figure(2)\r\n",
        "        plt.subplot(1,num_digits,j+1), plt.imshow(split_images[j,:,:,0])\r\n",
        "    plt.show()"
      ],
      "execution_count": null,
      "outputs": [
        {
          "output_type": "display_data",
          "data": {
            "image/png": "[encoded data removed]",
            "text/plain": [
              "<Figure size 432x288 with 1 Axes>"
            ]
          },
          "metadata": {
            "tags": [],
            "needs_background": "light"
          }
        },
        {
          "output_type": "display_data",
          "data": {
            "image/png": "[encoded data removed]",
            "text/plain": [
              "<Figure size 432x288 with 5 Axes>"
            ]
          },
          "metadata": {
            "tags": [],
            "needs_background": "light"
          }
        }
      ]
    },
    {
      "cell_type": "markdown",
      "metadata": {
        "id": "e_63Ww55kndt"
      },
      "source": [
        "Once the split points are determined, we split the entire data set into x_singles and y_singles, which are a single digit and its corresponding label. This will be used for training our model."
      ]
    },
    {
      "cell_type": "code",
      "metadata": {
        "id": "7CW4taEekfB5"
      },
      "source": [
        "x_singles = []\r\n",
        "y_singles = []\r\n",
        "\r\n",
        "for a in range(len(x)):\r\n",
        "    num_digits = number_of_digits(x[a])\r\n",
        "    # num_digits = np.count_nonzero(y[a] != 10)\r\n",
        "    split_x, split_y = digit_splitter(x[a], y[a], num_digits)  # Splits image and labels\r\n",
        "    x_singles.append(split_x)                                  # Appends images and labels\r\n",
        "    y_singles.append(split_y)\r\n",
        "\r\n",
        "\r\n",
        "# Flattens the lists such that each instance is a single image\r\n",
        "x_grouped = x_singles\r\n",
        "y_grouped = y_singles\r\n",
        "x_singles = [item for sublist in x_singles for item in sublist]\r\n",
        "y_singles = [item for sublist in y_singles for item in sublist if not item == 10]\r\n",
        "\r\n"
      ],
      "execution_count": null,
      "outputs": []
    },
    {
      "cell_type": "markdown",
      "metadata": {
        "id": "-ZKXmb9rksy4"
      },
      "source": [
        "We run some tests to ensure x_singles and y_singles are of the correct shape and length."
      ]
    },
    {
      "cell_type": "code",
      "metadata": {
        "id": "FzJUqN4dkn__",
        "colab": {
          "base_uri": "https://localhost:8080/"
        },
        "outputId": "41800ee9-1fc0-45f6-919c-080442f55a24"
      },
      "source": [
        "print(\"Length of x_singles and y_singles are:\",len(x_singles), len(y_singles))\r\n",
        "print(\"Shape of one instance of x_singles is:\", x_singles[0].shape)\r\n",
        "print(\"Shape of one instance of y_singles is (its just a number, has no shape):\", y_singles[0].shape)"
      ],
      "execution_count": null,
      "outputs": [
        {
          "output_type": "stream",
          "text": [
            "Length of x_singles and y_singles are: 167886 167886\n",
            "Shape of one instance of x_singles is: (12, 12, 1)\n",
            "Shape of one instance of y_singles is (its just a number, has no shape): ()\n"
          ],
          "name": "stdout"
        }
      ]
    },
    {
      "cell_type": "code",
      "metadata": {
        "id": "yDRTU8FdksBe",
        "colab": {
          "base_uri": "https://localhost:8080/"
        },
        "outputId": "4d0fbf38-b7fd-4ffb-d7d4-ef0f5846c75c"
      },
      "source": [
        "# Checks all x_singles are correct dimensions\r\n",
        "total_dimensions = [True for item in x_singles if (np.shape(item))  == (12, 12, 1)]\r\n",
        "pd.Series(total_dimensions).value_counts()"
      ],
      "execution_count": null,
      "outputs": [
        {
          "output_type": "execute_result",
          "data": {
            "text/plain": [
              "True    167886\n",
              "dtype: int64"
            ]
          },
          "metadata": {
            "tags": []
          },
          "execution_count": 11
        }
      ]
    },
    {
      "cell_type": "code",
      "metadata": {
        "id": "0EX7P6k6k1G-",
        "colab": {
          "base_uri": "https://localhost:8080/"
        },
        "outputId": "6935c220-a5f9-48f6-cf99-1811e3e26627"
      },
      "source": [
        "# Checks all y_singles are correct dimensions\r\n",
        "total_dimensions = [True for item in y_singles if (np.shape(item))  == ()]\r\n",
        "pd.Series(total_dimensions).value_counts()"
      ],
      "execution_count": null,
      "outputs": [
        {
          "output_type": "execute_result",
          "data": {
            "text/plain": [
              "True    167886\n",
              "dtype: int64"
            ]
          },
          "metadata": {
            "tags": []
          },
          "execution_count": 12
        }
      ]
    },
    {
      "cell_type": "markdown",
      "metadata": {
        "id": "2e4f0fBwk6rD"
      },
      "source": [
        "### Using a CNN Model"
      ]
    },
    {
      "cell_type": "code",
      "metadata": {
        "id": "Cy3u65qtk3mm"
      },
      "source": [
        "from keras.datasets import mnist\r\n",
        "# baseline cnn model for mnist\r\n",
        "from numpy import mean\r\n",
        "from numpy import std\r\n",
        "from matplotlib import pyplot\r\n",
        "from sklearn.model_selection import KFold\r\n",
        "from keras.datasets import mnist\r\n",
        "from keras.utils import to_categorical\r\n",
        "from keras.models import Sequential\r\n",
        "from keras.layers import Conv2D\r\n",
        "from keras.layers import MaxPooling2D\r\n",
        "from keras.layers import Dense\r\n",
        "from keras.layers import Flatten\r\n",
        "import keras.optimizers as optimizers\r\n",
        "from keras.layers import Dense, Dropout, BatchNormalization, Activation, Flatten, BatchNormalization\r\n",
        "from keras.layers import Conv2D,MaxPool2D\r\n",
        "import tensorflow as tf\r\n",
        "import keras\r\n",
        "from keras.models import load_model\r\n",
        "from keras.preprocessing.image import img_to_array\r\n",
        "from tensorflow.keras import regularizers\r\n",
        "from keras.preprocessing.image import ImageDataGenerator"
      ],
      "execution_count": null,
      "outputs": []
    },
    {
      "cell_type": "code",
      "metadata": {
        "id": "bgabPyjek91I"
      },
      "source": [
        "# load train and test dataset\r\n",
        "def load_dataset(x_singles,y_singles):\r\n",
        "    # load dataset\r\n",
        "    from sklearn.model_selection import train_test_split\r\n",
        "    trainX, testX, trainY, testY = train_test_split(x_singles, y_singles,test_size = 0.25)\r\n",
        "    trainX = np.array(trainX)\r\n",
        "    testX = np.array(testX)\r\n",
        "    trainY = np.array(trainY)\r\n",
        "    testY = np.array(testY)\r\n",
        "    # reshape dataset to have a single channel\r\n",
        "    trainX = trainX.reshape((trainX.shape[0], 12, 12, 1))\r\n",
        "    testX = testX.reshape((testX.shape[0], 12, 12, 1))\r\n",
        "    # one hot encode target values\r\n",
        "    trainY = to_categorical(trainY)\r\n",
        "    testY = to_categorical(testY)\r\n",
        "    return trainX, trainY, testX, testY"
      ],
      "execution_count": null,
      "outputs": []
    },
    {
      "cell_type": "code",
      "metadata": {
        "id": "s5L6FUm1lPLD"
      },
      "source": [
        "# scale pixels\r\n",
        "def prep_pixels(train, test):\r\n",
        " \t# convert from integers to floats\r\n",
        " \ttrain_norm = train.astype('float32')\r\n",
        " \ttest_norm = test.astype('float32')\r\n",
        " \t# normalize to range 0-1\r\n",
        " \ttrain_norm = train_norm / 255.0\r\n",
        " \ttest_norm = test_norm / 255.0\r\n",
        " \t# return normalized images\r\n",
        " \treturn train_norm, test_norm"
      ],
      "execution_count": null,
      "outputs": []
    },
    {
      "cell_type": "code",
      "metadata": {
        "id": "alLpTWZolQ_z"
      },
      "source": [
        "def define_model():\r\n",
        "    model = Sequential()\r\n",
        "    model.add(Conv2D(32, (3, 3), activation='relu', kernel_initializer='normal', input_shape=(12, 12, 1)))\r\n",
        "    model.add(BatchNormalization())\r\n",
        "    model.add(MaxPooling2D((2, 2)))\r\n",
        "    model.add(Dropout(0.1))\r\n",
        "    # model.add(Conv2D(32, (3, 3), activation='relu', kernel_initializer='he_uniform'))\r\n",
        "    # model.add(BatchNormalization())\r\n",
        "    # model.add(MaxPooling2D((2, 2)))\r\n",
        "    # model.add(Dropout(0.25))\r\n",
        "    model.add(Flatten())\r\n",
        "    model.add(Dense(100, activation='relu', kernel_initializer='normal'))\r\n",
        "    model.add(Dense(10, activation='softmax'))\r\n",
        "    # compile model\r\n",
        "    opt = keras.optimizers.Adagrad(lr=0.01)\r\n",
        "    model.compile(optimizer=opt, loss='categorical_crossentropy', metrics=['accuracy'])\r\n",
        "    return model"
      ],
      "execution_count": null,
      "outputs": []
    },
    {
      "cell_type": "code",
      "metadata": {
        "id": "mkCJk10XlTGK"
      },
      "source": [
        "# evaluate a model using k-fold cross-validation\r\n",
        "def evaluate_model(dataX, dataY, n_folds=5):\r\n",
        "\tscores, histories = list(), list()\r\n",
        "\t# prepare cross validation\r\n",
        "\tkfold = KFold(n_folds, shuffle=True, random_state=1)\r\n",
        "\t# enumerate splits\r\n",
        "\tfor train_ix, test_ix in kfold.split(dataX):\r\n",
        "\t\t# define model\r\n",
        "\t\tmodel = define_model()\r\n",
        "\t\t# select rows for train and test\r\n",
        "\t\ttrainX, trainY, testX, testY = dataX[train_ix], dataY[train_ix], dataX[test_ix], dataY[test_ix]\r\n",
        "\t\t# fit model\r\n",
        "\t\thistory = model.fit(trainX, trainY, epochs=10, batch_size=32, validation_data=(testX, testY), verbose=0)\r\n",
        "\t\t# evaluate model\r\n",
        "\t\t_, acc = model.evaluate(testX, testY, verbose=0)\r\n",
        "\t\tprint('> %.3f' % (acc * 100.0))\r\n",
        "\t\t# stores scores\r\n",
        "\t\tscores.append(acc)\r\n",
        "\t\thistories.append(history)\r\n",
        "\treturn scores, histories"
      ],
      "execution_count": null,
      "outputs": []
    },
    {
      "cell_type": "code",
      "metadata": {
        "id": "lcQwW1xOlXLN"
      },
      "source": [
        "# plot diagnostic learning curves\r\n",
        "def summarize_diagnostics(histories):\r\n",
        "\tfor i in range(len(histories)):\r\n",
        "\t\t# plot loss\r\n",
        "\t\tpyplot.subplot(2, 1, 1)\r\n",
        "\t\tpyplot.title('Cross Entropy Loss')\r\n",
        "\t\tpyplot.plot(histories[i].history['loss'], color='blue', label='train')\r\n",
        "\t\tpyplot.plot(histories[i].history['val_loss'], color='orange', label='test')\r\n",
        "\t\t# plot accuracy\r\n",
        "\t\tpyplot.subplot(2, 1, 2)\r\n",
        "\t\tpyplot.title('Classification Accuracy')\r\n",
        "\t\tpyplot.plot(histories[i].history['accuracy'], color='blue', label='train')\r\n",
        "\t\tpyplot.plot(histories[i].history['val_accuracy'], color='orange', label='test')\r\n",
        "\tpyplot.show()\r\n",
        "\r\n",
        "\r\n",
        "# summarize model performance\r\n",
        "def summarize_performance(scores):\r\n",
        "\t# print summary\r\n",
        "\tprint('Accuracy: mean=%.3f std=%.3f, n=%d' % (mean(scores)*100, std(scores)*100, len(scores)))\r\n",
        "\t# box and whisker plots of results\r\n",
        "\tpyplot.boxplot(scores)\r\n",
        "\tpyplot.show()"
      ],
      "execution_count": null,
      "outputs": []
    },
    {
      "cell_type": "code",
      "metadata": {
        "id": "e5Uak7z8o-9t"
      },
      "source": [
        "# With data augmentation to prevent overfitting\r\n",
        "\r\n",
        "datagen = ImageDataGenerator(\r\n",
        "        featurewise_center=False,  # set input mean to 0 over the dataset\r\n",
        "        samplewise_center=False,  # set each sample mean to 0\r\n",
        "        featurewise_std_normalization=False,  # divide inputs by std of the dataset\r\n",
        "        samplewise_std_normalization=False,  # divide each input by its std\r\n",
        "        zca_whitening=False,  # apply ZCA whitening\r\n",
        "        rotation_range=10,  # randomly rotate images in the range (degrees, 0 to 180)\r\n",
        "        zoom_range = 0.1, # Randomly zoom image \r\n",
        "        width_shift_range=0.1,  # randomly shift images horizontally (fraction of total width)\r\n",
        "        height_shift_range=0.1,  # randomly shift images vertically (fraction of total height)\r\n",
        "        horizontal_flip=False,  # randomly flip images\r\n",
        "        vertical_flip=False)  # randomly flip images"
      ],
      "execution_count": null,
      "outputs": []
    },
    {
      "cell_type": "code",
      "metadata": {
        "colab": {
          "base_uri": "https://localhost:8080/",
          "height": 719
        },
        "id": "gWm1myIXlYsS",
        "outputId": "0fd9953a-99e7-4de1-d97c-08bd02b7cfcd"
      },
      "source": [
        "# run the test harness for cross validation and accuracy plots\r\n",
        "def cross_validation():\r\n",
        "\t# load dataset\r\n",
        "\ttrainX, trainY, testX, testY = load_dataset(x_singles,y_singles)\r\n",
        "\t# prepare pixel data\r\n",
        "\ttrainX, testX = prep_pixels(trainX, testX)\r\n",
        "\t# evaluate model\r\n",
        "\tscores, histories = evaluate_model(trainX, trainY)\r\n",
        "\t# learning curves\r\n",
        "\tsummarize_diagnostics(histories)\r\n",
        "\t# summarize estimated performance\r\n",
        "\tsummarize_performance(scores)\r\n",
        " \r\n",
        "# entry point, run the test harness\r\n",
        "cross_validation()"
      ],
      "execution_count": null,
      "outputs": [
        {
          "output_type": "stream",
          "text": [
            "> 99.492\n",
            "> 99.516\n",
            "> 99.448\n",
            "> 99.448\n",
            "> 99.575\n"
          ],
          "name": "stdout"
        },
        {
          "output_type": "stream",
          "text": [
            "/usr/local/lib/python3.6/dist-packages/ipykernel_launcher.py:5: MatplotlibDeprecationWarning: Adding an axes using the same arguments as a previous axes currently reuses the earlier instance.  In a future version, a new instance will always be created and returned.  Meanwhile, this warning can be suppressed, and the future behavior ensured, by passing a unique label to each axes instance.\n",
            "  \"\"\"\n",
            "/usr/local/lib/python3.6/dist-packages/ipykernel_launcher.py:10: MatplotlibDeprecationWarning: Adding an axes using the same arguments as a previous axes currently reuses the earlier instance.  In a future version, a new instance will always be created and returned.  Meanwhile, this warning can be suppressed, and the future behavior ensured, by passing a unique label to each axes instance.\n",
            "  # Remove the CWD from sys.path while we load stuff.\n"
          ],
          "name": "stderr"
        },
        {
          "output_type": "display_data",
          "data": {
            "image/png": "[encoded data removed]",
            "text/plain": [
              "<Figure size 432x288 with 2 Axes>"
            ]
          },
          "metadata": {
            "tags": [],
            "needs_background": "light"
          }
        },
        {
          "output_type": "stream",
          "text": [
            "Accuracy: mean=99.496 std=0.047, n=5\n"
          ],
          "name": "stdout"
        },
        {
          "output_type": "display_data",
          "data": {
            "image/png": "[encoded data removed]",
            "text/plain": [
              "<Figure size 432x288 with 1 Axes>"
            ]
          },
          "metadata": {
            "tags": [],
            "needs_background": "light"
          }
        }
      ]
    },
    {
      "cell_type": "code",
      "metadata": {
        "id": "N0U_ST9UpOOg"
      },
      "source": [
        "# Entire training dataset\r\n",
        "x_train = x_singles\r\n",
        "y_train = y_singles\r\n",
        "\r\n",
        "x_train = np.array(x_train)\r\n",
        "y_train = np.array(y_train)\r\n",
        "\r\n",
        "# reshape dataset to have a single channel\r\n",
        "x_train = x_train.reshape((x_train.shape[0], 12, 12, 1))\r\n",
        "\r\n",
        "# one hot encode target values\r\n",
        "y_train = to_categorical(y_train)\r\n",
        "\r\n",
        "x_train = x_train.astype('float32')\r\n",
        "# normalize to range 0-1\r\n",
        "x_train = x_train / 255.0\r\n"
      ],
      "execution_count": null,
      "outputs": []
    },
    {
      "cell_type": "code",
      "metadata": {
        "id": "5tZpWE4hlaPO",
        "colab": {
          "base_uri": "https://localhost:8080/"
        },
        "outputId": "cb420d01-43d6-4b95-cc7f-7261ccc748e9"
      },
      "source": [
        "# run the test harness for saving model with 10 Epochs first\r\n",
        "def save_model():\r\n",
        "  model = define_model()\r\n",
        "  # fit model\r\n",
        "  model.fit(x_train, y_train, epochs=100, batch_size=16, verbose=0)\r\n",
        "  # save model\r\n",
        "  model.save('final_model_V0.h5')  \r\n",
        "\r\n",
        "start = time.time()\r\n",
        "# entry point, run the test harness\r\n",
        "save_model()\r\n",
        "end = time.time()\r\n",
        "\r\n",
        "print(end-start)"
      ],
      "execution_count": null,
      "outputs": [
        {
          "output_type": "stream",
          "text": [
            "2092.0035762786865\n"
          ],
          "name": "stdout"
        }
      ]
    },
    {
      "cell_type": "code",
      "metadata": {
        "colab": {
          "base_uri": "https://localhost:8080/"
        },
        "id": "U54xrxvFlcQ9",
        "outputId": "d2ebd910-bfa5-4e3a-f3b7-eb7177b313ee"
      },
      "source": [
        "# Evaluating the model\r\n",
        "model = load_model('final_model_V0.h5', compile=False)\r\n",
        "opt = keras.optimizers.SGD(lr=0.01, momentum=0.9)\r\n",
        "model.compile(optimizer=opt, loss='categorical_crossentropy', metrics=['accuracy'])\r\n",
        "_, acc = model.evaluate(x_train, y_train, verbose=0)\r\n",
        "print('> %.3f' % (acc * 100.0))\r\n"
      ],
      "execution_count": null,
      "outputs": [
        {
          "output_type": "stream",
          "text": [
            "> 99.996\n"
          ],
          "name": "stdout"
        }
      ]
    },
    {
      "cell_type": "markdown",
      "metadata": {
        "id": "M4X78d-Hl21N"
      },
      "source": [
        "## Visualizing on Entire (Training) Dataset"
      ]
    },
    {
      "cell_type": "markdown",
      "metadata": {
        "id": "JTl_MsA0mArx"
      },
      "source": [
        "The cross validation plots are satisfactory enough. But can we visualize where the model made mistakes with the dataset, and somehow try and account for those cases?"
      ]
    },
    {
      "cell_type": "code",
      "metadata": {
        "id": "vvcJok6xleB2"
      },
      "source": [
        "def load_image(x_sngl):\r\n",
        "    # load the image\r\n",
        "    img = x_sngl\r\n",
        "    # convert to array\r\n",
        "    img = img_to_array(img)\r\n",
        "    # reshape into a single sample with 1 channel\r\n",
        "    img = img.reshape(1, 12, 12, 1)\r\n",
        "    # prepare pixel data\r\n",
        "    img = img.astype('float32')\r\n",
        "    img = img / 255.0\r\n",
        "    return img\r\n"
      ],
      "execution_count": null,
      "outputs": []
    },
    {
      "cell_type": "code",
      "metadata": {
        "id": "b587aeb4mYJG"
      },
      "source": [
        "# digit splitter without labels y\r\n",
        "def test_digit_splitter(x, num_digits):\r\n",
        "    split_images = []\r\n",
        "    if num_digits == 5:\r\n",
        "        split_images.append(x[:,2:14,:])        # keeps all rows, keeps columns 2 (inclusive) to 14 (not inclusive), keeps 3rd dimension\r\n",
        "        split_images.append(x[:,14:26,:])\r\n",
        "        split_images.append(x[:,26:38,:])\r\n",
        "        split_images.append(x[:,38:50,:])\r\n",
        "        split_images.append(x[:,50:62,:])\r\n",
        "    elif num_digits == 4:\r\n",
        "        split_images.append(x[:,8:20,:])  \r\n",
        "        split_images.append(x[:,20:32,:])  \r\n",
        "        split_images.append(x[:,32:44,:])  \r\n",
        "        split_images.append(x[:,44:56,:])\r\n",
        "    elif num_digits == 3:\r\n",
        "        split_images.append(x[:,14:26,:])\r\n",
        "        split_images.append(x[:,26:38,:])\r\n",
        "        split_images.append(x[:,38:50,:])\r\n",
        "    elif num_digits == 2:\r\n",
        "        split_images.append(x[:,20:32,:])  \r\n",
        "        split_images.append(x[:,32:44,:]) \r\n",
        "    elif num_digits == 1:\r\n",
        "        split_images.append(x[:,26:38,:])\r\n",
        "    return split_images\r\n",
        "\r\n",
        "# loads test set without the need of labels y\r\n",
        "def load_test_set(x_test):\r\n",
        "\r\n",
        "    x_test_singles = []\r\n",
        "    \r\n",
        "    for a in range(len(x_test)):\r\n",
        "        num_digits = number_of_digits(x_test[a])\r\n",
        "        split_x = test_digit_splitter(x_test[a], num_digits)  # Splits image\r\n",
        "        x_test_singles.append(split_x)                        # Appends images\r\n",
        "\r\n",
        "    return x_test_singles"
      ],
      "execution_count": null,
      "outputs": []
    },
    {
      "cell_type": "code",
      "metadata": {
        "colab": {
          "base_uri": "https://localhost:8080/"
        },
        "id": "3JFqkGICmZ4h",
        "outputId": "89ad98ff-b37e-4f5b-c0e2-4e9fbd22c400"
      },
      "source": [
        "# loading model and trying to see patterns in training dataset. We can artificially include biases for wrongly classified digits\r\n",
        "\r\n",
        "misclassify_pics = []\r\n",
        "misclassify_arr = []\r\n",
        "misclassify_labels = []\r\n",
        "\r\n",
        "model = load_model('final_model_V0.h5', compile=False)\r\n",
        "\r\n",
        "x_singles = np.array(x_singles)\r\n",
        "y_singles = np.array(y_singles)\r\n",
        "\r\n",
        "for i in range(len(x_singles)):\r\n",
        "    if i == 1000:\r\n",
        "      print('here')\r\n",
        "    if i == 10000:\r\n",
        "        print('here')\r\n",
        "    if i == 50000:\r\n",
        "        print('here')\r\n",
        "    if i == 100000:\r\n",
        "        print('here')\r\n",
        "    if i == 110000:\r\n",
        "        print('here')\r\n",
        "    if i == 120000:\r\n",
        "        print('here')\r\n",
        "    if i == 130000:\r\n",
        "        print('here')\r\n",
        "    if i == 140000:\r\n",
        "        print('here')\r\n",
        "    if i == 150000:\r\n",
        "        print('here')\r\n",
        "        \r\n",
        "    img = load_image(x_singles[i])\r\n",
        "    digit = model.predict_classes(img)\r\n",
        "    if digit != y_singles[i]:\r\n",
        "        misclassify_pics.append(x_singles[i])\r\n",
        "        misclassify_arr.append(digit)\r\n",
        "        misclassify_labels.append(y_singles[i])\r\n",
        "\r\n",
        "\r\n",
        "misclassify_pics = np.array(misclassify_pics)\r\n",
        "print(f\"From the entire training data that is split image-by-image, the model predicts with accuracy {(1-misclassify_pics.shape[0]/x_singles.shape[0])*100}\")"
      ],
      "execution_count": null,
      "outputs": [
        {
          "output_type": "stream",
          "text": [
            "WARNING:tensorflow:From <ipython-input-27-34de0efe8565>:33: Sequential.predict_classes (from tensorflow.python.keras.engine.sequential) is deprecated and will be removed after 2021-01-01.\n",
            "Instructions for updating:\n",
            "Please use instead:* `np.argmax(model.predict(x), axis=-1)`,   if your model does multi-class classification   (e.g. if it uses a `softmax` last-layer activation).* `(model.predict(x) > 0.5).astype(\"int32\")`,   if your model does binary classification   (e.g. if it uses a `sigmoid` last-layer activation).\n",
            "here\n",
            "here\n",
            "here\n",
            "here\n",
            "here\n",
            "here\n",
            "here\n",
            "here\n",
            "here\n",
            "From the entire training data that is split image-by-image, the model predicts with accuracy 99.99940435771893\n"
          ],
          "name": "stdout"
        }
      ]
    },
    {
      "cell_type": "code",
      "metadata": {
        "colab": {
          "base_uri": "https://localhost:8080/",
          "height": 389
        },
        "id": "11uprO7zm57r",
        "outputId": "6508c580-e262-4b2a-ffe2-1385a25dc684"
      },
      "source": [
        "# Visualization of the first 15 wrongly classified images. Unfortunately, no patterns were seen, so there's no intuition on \r\n",
        "# what biases to artificially include.\r\n",
        "\r\n",
        "plt.figure(figsize = (40,20))\r\n",
        "for i in range(1):\r\n",
        "    title_list = [misclassify_arr[i],misclassify_labels[i]]\r\n",
        "    plt.subplot(3,5,i+1), plt.imshow(misclassify_pics[i,:,:,0])\r\n",
        "    plt.title(f\"Guess:{title_list[0]}  Real:{title_list[1]}\",fontsize = 20),plt.xticks([0,10]), plt.yticks([0,10])\r\n",
        "plt.show()"
      ],
      "execution_count": null,
      "outputs": [
        {
          "output_type": "display_data",
          "data": {
            "image/png": "[encoded data removed]",
            "text/plain": [
              "<Figure size 2880x1440 with 1 Axes>"
            ]
          },
          "metadata": {
            "tags": [],
            "needs_background": "light"
          }
        }
      ]
    },
    {
      "cell_type": "markdown",
      "metadata": {
        "id": "mxcH2p8VqC9k"
      },
      "source": [
        "## Final Predictions on Test Set"
      ]
    },
    {
      "cell_type": "code",
      "metadata": {
        "id": "WaUIjKgOl_fO"
      },
      "source": [
        "# function takes image, makes prediction and appends result to y_pred list\r\n",
        "def pred(x_tst, y_pred):\r\n",
        "\r\n",
        "    # load model\r\n",
        "    model = load_model(f'final_model_V0.h5', compile=False)\r\n",
        "\r\n",
        "    for i in range (len(x_tst)):\r\n",
        "        y_str = \"\"\r\n",
        "        for j in range (len(x_tst[i])):\r\n",
        "            img = load_image(x_tst[i][j])\r\n",
        "            # predict the class\r\n",
        "            digit = model.predict_classes(img)\r\n",
        "            y_str = y_str + str(digit[0])\r\n",
        "\r\n",
        "        #add 10 at the end for missing digits\r\n",
        "        for k in range(5-len(y_str)):\r\n",
        "            y_str = y_str + '10'\r\n",
        "        y_pred.append(y_str)\r\n",
        "\r\n",
        "    return y_pred\r\n"
      ],
      "execution_count": null,
      "outputs": []
    },
    {
      "cell_type": "code",
      "metadata": {
        "id": "Jg3v6XcypiDw"
      },
      "source": [
        "# initializing list that will hold all of our predictions\r\n",
        "y_pred=[]"
      ],
      "execution_count": null,
      "outputs": []
    },
    {
      "cell_type": "code",
      "metadata": {
        "id": "qTOqkAKjqYBZ",
        "colab": {
          "base_uri": "https://localhost:8080/"
        },
        "outputId": "746c757c-3d7e-4621-a4a7-013665d3d52d"
      },
      "source": [
        "# Evaluate on Test Set\r\n",
        "\r\n",
        "start = time.time()\r\n",
        "\r\n",
        "#load test data from original dataset\r\n",
        "x_test = np.array(dataset['test_dataset'])\r\n",
        "\r\n",
        "#Taking a subset of the dataset to prevent deepnote from crashing\r\n",
        "x_test = x_test[0:14000,:,:,:]\r\n",
        "\r\n",
        "\r\n",
        "# remove unused rows\r\n",
        "x_test = x_test[:,26:-26,:,:]\r\n",
        "\r\n",
        "#load_test_set() takes in the original data and splits it into sepearate digits\r\n",
        "x_tst = load_test_set(x_test)\r\n",
        "\r\n",
        "#pred() returns a list of all the prediction\r\n",
        "pred(x_tst, y_pred)\r\n",
        "\r\n",
        "end = time.time()\r\n",
        "print(end-start)"
      ],
      "execution_count": null,
      "outputs": [
        {
          "output_type": "stream",
          "text": [
            "1175.7576973438263\n"
          ],
          "name": "stdout"
        }
      ]
    },
    {
      "cell_type": "code",
      "metadata": {
        "colab": {
          "base_uri": "https://localhost:8080/"
        },
        "id": "yoSZeeBSqbDT",
        "outputId": "793fd716-fc5c-4faa-d835-33c2d90bff94"
      },
      "source": [
        "# Check how many images have been predicted so far\r\n",
        "len(y_pred)"
      ],
      "execution_count": null,
      "outputs": [
        {
          "output_type": "execute_result",
          "data": {
            "text/plain": [
              "14000"
            ]
          },
          "metadata": {
            "tags": []
          },
          "execution_count": 33
        }
      ]
    },
    {
      "cell_type": "code",
      "metadata": {
        "colab": {
          "base_uri": "https://localhost:8080/"
        },
        "id": "O93arp98Ct2Y",
        "outputId": "fc050c65-2385-4be8-9ce8-45bf88c263f2"
      },
      "source": [
        "submission = pd.Series(y_pred)\r\n",
        "len(submission)"
      ],
      "execution_count": null,
      "outputs": [
        {
          "output_type": "execute_result",
          "data": {
            "text/plain": [
              "14000"
            ]
          },
          "metadata": {
            "tags": []
          },
          "execution_count": 34
        }
      ]
    },
    {
      "cell_type": "code",
      "metadata": {
        "id": "VuXnmLwfqe-t",
        "colab": {
          "base_uri": "https://localhost:8080/"
        },
        "outputId": "65fae231-61ca-48d9-e4d9-4179cdeaed64"
      },
      "source": [
        "# converting merged dataframe into csv file\r\n",
        "submission.to_csv('file_to_submit.csv')\r\n",
        "print(len(submission))"
      ],
      "execution_count": null,
      "outputs": [
        {
          "output_type": "stream",
          "text": [
            "14000\n"
          ],
          "name": "stdout"
        }
      ]
    },
    {
      "cell_type": "code",
      "metadata": {
        "id": "01OlvCRRqnQf",
        "colab": {
          "base_uri": "https://localhost:8080/",
          "height": 129
        },
        "outputId": "fa300b80-0b71-4141-9114-6191c550f21f"
      },
      "source": [
        "plt.imshow(x_test[13240,:,:,0])"
      ],
      "execution_count": null,
      "outputs": [
        {
          "output_type": "execute_result",
          "data": {
            "text/plain": [
              "<matplotlib.image.AxesImage at 0x7f8609837dd8>"
            ]
          },
          "metadata": {
            "tags": []
          },
          "execution_count": 112
        },
        {
          "output_type": "display_data",
          "data": {
            "image/png": "[encoded data removed]",
            "text/plain": [
              "<Figure size 432x288 with 1 Axes>"
            ]
          },
          "metadata": {
            "tags": [],
            "needs_background": "light"
          }
        }
      ]
    },
    {
      "cell_type": "code",
      "metadata": {
        "id": "3HbowVPiF-4o"
      },
      "source": [
        ""
      ],
      "execution_count": null,
      "outputs": []
    }
  ]
}